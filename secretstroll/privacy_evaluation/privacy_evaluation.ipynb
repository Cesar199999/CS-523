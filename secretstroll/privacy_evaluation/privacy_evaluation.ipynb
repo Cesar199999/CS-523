{
 "cells": [
  {
   "cell_type": "markdown",
   "id": "a58ae3c3",
   "metadata": {},
   "source": [
    "# Assumption and  Adversial Model\n",
    "\n",
    "We assume that each IP address is unique and associated to one user and that IP address does not change overt time, it is not necessary a realistic assumption since the ISP provide an random address ip if the user use 4g for example.\n",
    "We assume that 2 successive request send in the same cell count has 1 visit in the cell.\n",
    "We assume the connection is encrypted so the adversary cannot eavesdrop and read the packets but we assume that if the adversary have access to any data so it have access to all presented in section 2.1 and that the adversary can do data analysis. More concretely the service provider is the adversary and search to know information about indivual users.\n",
    "\n",
    "These assumptions are usefull for privacy analysis because they give to the adversary a possibility to exploits data while not being unrealistic."
   ]
  },
  {
   "cell_type": "markdown",
   "id": "fedb6c9d",
   "metadata": {},
   "source": [
    "# Attack Strategy\n",
    "\n",
    "## frequency attack\n",
    "\n",
    "With a given ip we can count the number of time the user with this ip visited a given cell or given type of POI to learn what the hobbies of the user are and where he lives. We could also infer with timestamp to learn where the user work and what are his work hours. After this we can compare between different users if they are visiting the same place at the same time and learning which users are knowing each other. "
   ]
  },
  {
   "cell_type": "markdown",
   "id": "f3c74744",
   "metadata": {},
   "source": [
    "# Demonstration"
   ]
  },
  {
   "cell_type": "code",
   "execution_count": 1,
   "id": "935abbb1",
   "metadata": {},
   "outputs": [],
   "source": [
    "from query import get_nearby_pois\n",
    "from os import path\n",
    "import matplotlib.pyplot as plt\n",
    "import numpy as np\n",
    "import pandas as pd\n"
   ]
  },
  {
   "cell_type": "code",
   "execution_count": 2,
   "id": "c1d83aa7",
   "metadata": {},
   "outputs": [],
   "source": [
    "def parse_queries():\n",
    "    query_by_user = {}\n",
    "    cwd = path.abspath('')\n",
    "    queries = np.loadtxt(path.join(cwd, 'queries.csv'), delimiter=\" \", dtype=object, skiprows=1)\n",
    "    \n",
    "    for query in queries:\n",
    "        if query[0] in query_by_user:\n",
    "            query_by_user[query[0]].append({'location': np.array([float(query[1]), float(query[2])]), \n",
    "                                            'timestamp': int(query[3].split(\".\")[0]), 'filter': query[4]})\n",
    "        else:\n",
    "            query_by_user[query[0]] = [{'location': np.array([float(query[1]), float(query[2])]), \n",
    "                                            'timestamp': int(query[3].split(\".\")[0]), 'filter': query[4]}]\n",
    "    return query_by_user\n",
    "    \n",
    "def parse_pois():\n",
    "    pois_by_id = {}\n",
    "    with open('pois.csv') as file:\n",
    "        next(file)\n",
    "        for line in file.readlines():\n",
    "            line = line.split()\n",
    "            pois_by_id[int(line[0])] = {\"cell\":int(line[1]), \"type\": line[2], \n",
    "                                        \"location\": (float(line[3]), float(line[4]))}\n",
    "    return pois_by_id\n",
    "\n",
    "query_by_user = parse_queries()\n",
    "pois_by_id = parse_pois()"
   ]
  },
  {
   "cell_type": "code",
   "execution_count": 3,
   "id": "1676744f",
   "metadata": {},
   "outputs": [],
   "source": [
    "## create plot for type of pois visited\n",
    "def plot_type_searched(queries):\n",
    "    for user, queries in queries.items():\n",
    "        pois_type_visited = {}\n",
    "        for query in queries:\n",
    "            if query['filter'] in pois_type_visited:\n",
    "                pois_type_visited[query['filter']] += 1\n",
    "            else:\n",
    "                pois_type_visited[query['filter']] = 1\n",
    "                \n",
    "        types = list(pois_type_visited.keys())\n",
    "        nb_of_visit = list(pois_type_visited.values())\n",
    "        \n",
    "        fig = plt.figure(figsize = (10, 5))\n",
    "        plt.bar(types, nb_of_visit, width = 0.4)\n",
    "        \n",
    "        plt.xlabel(\"poi type\")\n",
    "        plt.ylabel(\"Number of visit\")\n",
    "        plt.title(\"visited type by {user_id}\".format(user_id=user))\n",
    "        path_name = \"figures/type_searched/type_searched_{user_id}.png\".format(user_id = user)\n",
    "        plt.savefig(path_name)\n",
    "        plt.close()\n",
    "\n",
    "plot_type_searched(query_by_user)"
   ]
  },
  {
   "cell_type": "code",
   "execution_count": 4,
   "id": "4806bd34",
   "metadata": {},
   "outputs": [],
   "source": [
    "## find most visited cells\n",
    "def plot_visited_cells(queries, pois):\n",
    "    for user, queries in queries.items():\n",
    "        cell_visited = {}\n",
    "        max_id = 0\n",
    "        previous_cell = 0\n",
    "        \n",
    "        for query in queries:\n",
    "            nearby_pois = get_nearby_pois(query['location'], query['filter'])\n",
    "            #as all nearby_pois are in same cell, we can just take the first poi of the list and retrive its cell\n",
    "            if nearby_pois:\n",
    "                cell = pois[nearby_pois[0]]['cell']\n",
    "                if cell > max_id:\n",
    "                    max_id = cell\n",
    "                if cell != previous_cell:\n",
    "                    if cell in cell_visited:\n",
    "                        cell_visited[cell] += 1\n",
    "                    else:\n",
    "                        cell_visited[cell] = 1\n",
    "                    previous_cell = cell\n",
    "        \n",
    "        cell = list(cell_visited.keys())\n",
    "        nb_of_visit = list(cell_visited.values())\n",
    "        fig = plt.figure(figsize = (20, 5))\n",
    "        plt.bar(cell, nb_of_visit, width = 0.4)\n",
    "        x = np.arange(0, max_id+1, 1)\n",
    "    \n",
    "        plt.xlabel(\"cell id\")\n",
    "        plt.ylabel(\"Number of visit\")\n",
    "        plt.title(\"cell type by {user_id}\".format(user_id=user))\n",
    "        plt.xticks(x,x)\n",
    "        path_name = \"figures/cell_visited/cell_visited_{user_id}.png\".format(user_id = user)\n",
    "        plt.savefig(path_name)\n",
    "        plt.close()\n",
    "        \n",
    "plot_visited_cells(query_by_user, pois_by_id)"
   ]
  },
  {
   "cell_type": "code",
   "execution_count": 16,
   "id": "04990a9e",
   "metadata": {},
   "outputs": [],
   "source": [
    "def plot_number_of_meeting_between_user(queries):\n",
    "    for user1, queries1 in queries.items():\n",
    "        meeting = {}\n",
    "        for query1 in queries1:\n",
    "            for user2, queries2 in queries.items():\n",
    "                if user1 != user2:\n",
    "                    for query2 in queries2:\n",
    "                        if query1['timestamp'] == query2['timestamp']:\n",
    "                            if user2 in meeting:\n",
    "                                meeting[user2] += 1\n",
    "                            else:\n",
    "                                meeting[user2] = 1\n",
    "        users = list(meeting.keys())\n",
    "        nb_of_meeting = list(meeting.values())\n",
    "        fig = plt.figure(figsize = (30,5))\n",
    "        plt.bar(users, nb_of_meeting, width=0.4)\n",
    "        \n",
    "        plt.xlabel(\"user met\")\n",
    "        plt.ylabel(\"Number of meeting\")\n",
    "        plt.title(\"meeting of {user_id} with other users\".format(user_id=user1))\n",
    "        path_name = \"figures/meetings/meeting_of_{user_id}.png\".format(user_id = user1)\n",
    "        plt.savefig(path_name)\n",
    "        plt.close()\n",
    "plot_number_of_meeting_between_user(query_by_user)"
   ]
  },
  {
   "cell_type": "code",
   "execution_count": null,
   "id": "4023d225",
   "metadata": {},
   "outputs": [],
   "source": []
  }
 ],
 "metadata": {
  "kernelspec": {
   "display_name": "Python 3 (ipykernel)",
   "language": "python",
   "name": "python3"
  },
  "language_info": {
   "codemirror_mode": {
    "name": "ipython",
    "version": 3
   },
   "file_extension": ".py",
   "mimetype": "text/x-python",
   "name": "python",
   "nbconvert_exporter": "python",
   "pygments_lexer": "ipython3",
   "version": "3.11.3"
  }
 },
 "nbformat": 4,
 "nbformat_minor": 5
}
