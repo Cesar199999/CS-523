{
 "cells": [
  {
   "cell_type": "markdown",
   "id": "a58ae3c3",
   "metadata": {},
   "source": [
    "# Assumption and  Adversial Model\n",
    "\n",
    "We assume that each IP address is unique and associated to one user and that IP address does not change overt time, it is not necessary a realistic assumption since the ISP provide an random address ip if the user use 4g for example.\n",
    "We assume that 2 successive request send in the same cell count has 1 visit in the cell.\n",
    "We assume the connection is encrypted so the adversary cannot eavesdrop and read the packets but we assume that if the adversary have access to any datapresented in section 2.1, that the adversary can do data analysis and that the adversary can do request on its own. More concretely the service provider could be considered as the adversary and search to know information about indivual users.\n",
    "\n",
    "These assumptions are usefull for privacy analysis because they give to the adversary a possibility to exploits data while not being unrealistic."
   ]
  },
  {
   "cell_type": "markdown",
   "id": "fedb6c9d",
   "metadata": {},
   "source": [
    "# Attack Strategy\n",
    "\n",
    "## frequency attack\n",
    "\n",
    "With a given ip we can count the number of time the user with this ip visited a given cell or given type of POI to learn what the hobbies of the user are and where he lives. We could also infer with timestamp to learn where the user work and what are his work hours. After this we can compare between different users if they are visiting the same place at the same time and learning which users are knowing each other. "
   ]
  },
  {
   "cell_type": "markdown",
   "id": "f3c74744",
   "metadata": {},
   "source": [
    "# Demonstration"
   ]
  },
  {
   "cell_type": "code",
   "execution_count": 53,
   "id": "935abbb1",
   "metadata": {},
   "outputs": [],
   "source": [
    "from query import get_nearby_pois\n",
    "from os import path\n",
    "import matplotlib.pyplot as plt\n",
    "import numpy as np\n",
    "import pandas as pd"
   ]
  },
  {
   "cell_type": "code",
   "execution_count": 64,
   "id": "c1d83aa7",
   "metadata": {},
   "outputs": [
    {
     "name": "stdout",
     "output_type": "stream",
     "text": [
      "min_lat: 46.50003195953242, max_lat: 46.569850585348725\n",
      "min_long: 6.55005143958594, max_long: 6.649892848816985\n"
     ]
    }
   ],
   "source": [
    "def parse_queries():\n",
    "    query_by_user = {}\n",
    "    cwd = path.abspath('')\n",
    "    queries = np.loadtxt(path.join(cwd, 'queries.csv'), delimiter=\" \", dtype=object, skiprows=1)\n",
    "    \n",
    "    for query in queries:\n",
    "        if query[0] in query_by_user:\n",
    "            query_by_user[query[0]].append({'location': np.array([float(query[1]), float(query[2])]), \n",
    "                                            'timestamp': int(query[3].split(\".\")[0]), 'filter': query[4]})\n",
    "        else:\n",
    "            query_by_user[query[0]] = [{'location': np.array([float(query[1]), float(query[2])]), \n",
    "                                            'timestamp': int(query[3].split(\".\")[0]), 'filter': query[4]}]\n",
    "    return query_by_user\n",
    "    \n",
    "def parse_pois():\n",
    "    pois_by_id = {}\n",
    "    min_lat, max_lat = float(\"inf\"), 0\n",
    "    min_long, max_long = float(\"inf\"), 0\n",
    "    with open('pois.csv') as file:\n",
    "        next(file)\n",
    "        for line in file.readlines():\n",
    "            line = line.split()\n",
    "            pois_by_id[int(line[0])] = {\"cell\":int(line[1]), \"type\": line[2], \n",
    "                                        \"location\": (float(line[3]), float(line[4]))}\n",
    "            if float(line[3]) < min_lat:\n",
    "                min_lat = float(line[3])\n",
    "            elif float(line[3]) > max_lat:\n",
    "                max_lat = float(line[3])\n",
    "            \n",
    "            if float(line[4]) < min_long:\n",
    "                min_long = float(line[4])\n",
    "            elif float(line[4]) > max_long:\n",
    "                max_long = float(line[4])\n",
    "    print(\"min_lat: \" + str(min_lat) + \", max_lat: \"+ str(max_lat))\n",
    "    print(\"min_long: \" + str(min_long) + \", max_long: \"+ str(max_long))\n",
    "    return pois_by_id\n",
    "\n",
    "query_by_user = parse_queries()\n",
    "pois_by_id = parse_pois()"
   ]
  },
  {
   "cell_type": "code",
   "execution_count": 3,
   "id": "1676744f",
   "metadata": {},
   "outputs": [],
   "source": [
    "## create plot for type of pois visited\n",
    "def plot_type_searched(queries):\n",
    "    for user, queries in queries.items():\n",
    "        pois_type_visited = {}\n",
    "        for query in queries:\n",
    "            if query['filter'] in pois_type_visited:\n",
    "                pois_type_visited[query['filter']] += 1\n",
    "            else:\n",
    "                pois_type_visited[query['filter']] = 1\n",
    "                \n",
    "        types = list(pois_type_visited.keys())\n",
    "        nb_of_visit = list(pois_type_visited.values())\n",
    "        \n",
    "        fig = plt.figure(figsize = (10, 5))\n",
    "        plt.bar(types, nb_of_visit, width = 0.4)\n",
    "        \n",
    "        plt.xlabel(\"poi type\")\n",
    "        plt.ylabel(\"Number of visit\")\n",
    "        plt.title(\"visited type by {user_id}\".format(user_id=user))\n",
    "        path_name = \"figures/type_searched/type_searched_{user_id}.png\".format(user_id = user)\n",
    "        plt.savefig(path_name)\n",
    "        plt.close()\n",
    "\n",
    "plot_type_searched(query_by_user)"
   ]
  },
  {
   "cell_type": "code",
   "execution_count": 94,
   "id": "4806bd34",
   "metadata": {},
   "outputs": [],
   "source": [
    "## find most visited coordinates\n",
    "def plot_visited_coordinates(queries, pois):\n",
    "    for user, queries in queries.items():\n",
    "        coord_visited = {}\n",
    "        previous_cell = 0\n",
    "        \n",
    "        for query in queries:\n",
    "            #as all nearby_pois are in same cell, we can just take the first poi of the list and retrive its cell\n",
    "            location = tuple(list(query['location']))\n",
    "            if location in coord_visited:\n",
    "                coord_visited[location] += 1\n",
    "            else:\n",
    "                coord_visited[location] = 1\n",
    "        \n",
    "        coord = list(coord_visited.keys())\n",
    "        nb_of_visit = list(coord_visited.values())\n",
    "        fig = plt.figure(figsize = (20, 5))\n",
    "        x_pos = np.arange(len(coord))\n",
    "        plt.bar(x_pos, nb_of_visit, width = 0.4)\n",
    "    \n",
    "        plt.xlabel(\"coord\")\n",
    "        plt.ylabel(\"Number of visit\")\n",
    "        plt.title(\"coord visited by {user_id}\".format(user_id=user))\n",
    "        plt.xticks(x_pos,coord)\n",
    "        path_name = \"figures/coord_visited/coord_visited_{user_id}.png\".format(user_id = user)\n",
    "        plt.savefig(path_name)\n",
    "        plt.close()\n",
    "        \n",
    "plot_visited_coordinates(query_by_user, pois_by_id)"
   ]
  },
  {
   "cell_type": "code",
   "execution_count": 16,
   "id": "04990a9e",
   "metadata": {},
   "outputs": [],
   "source": [
    "def plot_number_of_meeting_between_user(queries):\n",
    "    for user1, queries1 in queries.items():\n",
    "        meeting = {}\n",
    "        for query1 in queries1:\n",
    "            for user2, queries2 in queries.items():\n",
    "                if user1 != user2:\n",
    "                    for query2 in queries2:\n",
    "                        if query1['timestamp'] == query2['timestamp']:\n",
    "                            if user2 in meeting:\n",
    "                                meeting[user2] += 1\n",
    "                            else:\n",
    "                                meeting[user2] = 1\n",
    "        users = list(meeting.keys())\n",
    "        nb_of_meeting = list(meeting.values())\n",
    "        fig = plt.figure(figsize = (30,5))\n",
    "        plt.bar(users, nb_of_meeting, width=0.4)\n",
    "        \n",
    "        plt.xlabel(\"user met\")\n",
    "        plt.ylabel(\"Number of meeting\")\n",
    "        plt.title(\"meeting of {user_id} with other users\".format(user_id=user1))\n",
    "        path_name = \"figures/meetings/meeting_of_{user_id}.png\".format(user_id = user1)\n",
    "        plt.savefig(path_name)\n",
    "        plt.close()\n",
    "plot_number_of_meeting_between_user(query_by_user)"
   ]
  },
  {
   "cell_type": "code",
   "execution_count": null,
   "id": "d08454db",
   "metadata": {},
   "outputs": [],
   "source": [
    "#TODO: recreate wich poi were visited by users during 1 day"
   ]
  },
  {
   "cell_type": "markdown",
   "id": "6f31547a",
   "metadata": {},
   "source": [
    "# Defense"
   ]
  },
  {
   "cell_type": "markdown",
   "id": "513b8b06",
   "metadata": {},
   "source": [
    "## definition\n",
    "\n",
    "We state the definition of the privacy as the k-anonmity achieve by the databse. A great k leads to a better privacy.\n",
    "We state de definiton of utility as the capacity of a given data give the correct result of a querry.\n",
    "\n",
    "## defense description\n",
    "\n",
    "We will use databse sanitization as a defense on different data.\n",
    "First we will make the user location more generalized. In fact we could track the exact position of a user since the location is accurate to the less than the milimeters. We have a 10 by 10 grid covering 0.069818625816305 in latitude and 0.099841409231045 in longitude so 0.06 latitude and 0.09 longitude par cells. So each cells have a size about 0.78 times 1.11 km². So clearly having the current precision is overkill and a precision about 100 meters is cleary sufficient and we can only keep 3 decimals for this. It should increase the k-anonmity of our database.\n",
    "\n",
    "Then the timestamp are currently not use by the application so we can just delete them completely. It would also incerease k-anonmity and prevent inference on meetings for exemple."
   ]
  },
  {
   "cell_type": "code",
   "execution_count": 43,
   "id": "760bdfaf",
   "metadata": {},
   "outputs": [
    {
     "name": "stdout",
     "output_type": "stream",
     "text": [
      "k-anonymity: 1\n"
     ]
    }
   ],
   "source": [
    "queries = []\n",
    "\n",
    "with open('queries.csv') as file:\n",
    "        next(file)\n",
    "        for line in file.readlines():\n",
    "            queries.append(line.split())\n",
    "\n",
    "for query in queries:\n",
    "    query.remove(query[3])\n",
    "    query[1] = round(float(query[1]), 3)\n",
    "    query[2] = round(float(query[2]), 3)\n",
    "\n",
    "# measure k-anonymity\n",
    "k_list = []\n",
    "for i in range(len(queries)):\n",
    "    k = 1\n",
    "    for j in range(len(queries)):\n",
    "        if i != j:\n",
    "            if queries[i][1] == queries[j][1] and queries[i][2] == queries[j][2]:\n",
    "                k+=1\n",
    "    k_list.append(k)\n",
    "print(\"k-anonymity: \"+str(min(k_list)))"
   ]
  },
  {
   "cell_type": "markdown",
   "id": "34dba47b",
   "metadata": {},
   "source": [
    "We achieve 1-anonymity set that's a poor result. A way to improve the anonimity of the databse would be to not sent de geographical coordinates but the cell id, letting the user compute the cell from his location and only sent the cell id to the service provider. This would increase the anonymity."
   ]
  },
  {
   "cell_type": "code",
   "execution_count": null,
   "id": "2a1c53cf",
   "metadata": {},
   "outputs": [
    {
     "name": "stdout",
     "output_type": "stream",
     "text": [
      "1\n"
     ]
    }
   ],
   "source": [
    "queries = []\n",
    "\n",
    "with open('queries.csv') as file:\n",
    "        next(file)\n",
    "        for line in file.readlines():\n",
    "            queries.append(line.split())\n",
    "\n",
    "for query in queries:\n",
    "    nearby_pois = get_nearby_pois(np.array([float(query[1]), float(query[2])]), query[4])\n",
    "    if query[0] == '104.149.206.168':\n",
    "        if int(pois_by_id[nearby_pois[0]]['cell']) == 1:\n",
    "            print(\"cell 1\")\n",
    "    query.remove(query[3])\n",
    "    query.remove(query[2])\n",
    "    if nearby_pois:\n",
    "        if int(pois_by_id[nearby_pois[0]]['cell']) == 1:\n",
    "            print(int(pois_by_id[nearby_pois[0]]['cell']))\n",
    "        query[1] = int(pois_by_id[nearby_pois[0]]['cell'])\n",
    "    else:\n",
    "        query[1] = 0\n",
    "\n",
    "# measure k-anonymity\n",
    "k_list = []\n",
    "for i in range(len(queries)):\n",
    "    k = 1\n",
    "    for j in range(len(queries)):\n",
    "        if i != j:\n",
    "            if queries[i][1] == queries[j][1]:\n",
    "                k+=1\n",
    "    if k == 1:\n",
    "        print(queries[i])\n",
    "    k_list.append(k)\n",
    "print(\"k-anonymity: \"+str(min(k_list)))"
   ]
  },
  {
   "cell_type": "code",
   "execution_count": null,
   "id": "053ef0be",
   "metadata": {},
   "outputs": [],
   "source": []
  }
 ],
 "metadata": {
  "kernelspec": {
   "display_name": "Python 3 (ipykernel)",
   "language": "python",
   "name": "python3"
  },
  "language_info": {
   "codemirror_mode": {
    "name": "ipython",
    "version": 3
   },
   "file_extension": ".py",
   "mimetype": "text/x-python",
   "name": "python",
   "nbconvert_exporter": "python",
   "pygments_lexer": "ipython3",
   "version": "3.11.3"
  }
 },
 "nbformat": 4,
 "nbformat_minor": 5
}
